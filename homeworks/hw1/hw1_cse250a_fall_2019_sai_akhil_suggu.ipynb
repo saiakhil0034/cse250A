{
 "cells": [
  {
   "cell_type": "code",
   "execution_count": 2,
   "metadata": {},
   "outputs": [],
   "source": [
    "##################################################\n",
    "## Author: Sai Akhil Suggu\n",
    "## Credits: CSE250A, fall 2019, Prof. Lawrence Saul\n",
    "## Version: 1.0.1\n",
    "## Mmaintainer: Sai Akhil Suggu\n",
    "## Email: saiakhil0034@eng.ucsd.edu\n",
    "## Status: Done\n",
    "##################################################"
   ]
  },
  {
   "cell_type": "code",
   "execution_count": 218,
   "metadata": {},
   "outputs": [],
   "source": [
    "import numpy as np\n",
    "import pandas as pd\n",
    "import copy\n",
    "import matplotlib.pyplot as plt"
   ]
  },
  {
   "cell_type": "markdown",
   "metadata": {},
   "source": [
    "## 1.9 (a) \n",
    "\n",
    "Download the file hw1 word counts 05.txt that appears with the homework assignment. \n",
    "\n",
    "The file contains a list of 5-letter words (including names and proper nouns) and their counts from a large corpus of Wall Street Journal articles (roughly three million sentences). \n",
    "\n",
    "From the counts in this file compute the prior probability P(w) = COUNT(w)/􏰆w′ COUNT(w′). As a sanity check, print out the fifteen most frequent 5-letter words, as well as the fourteen least frequent 5-letter words. Do your results make sense_"
   ]
  },
  {
   "cell_type": "code",
   "execution_count": 303,
   "metadata": {},
   "outputs": [
    {
     "name": "stdout",
     "output_type": "stream",
     "text": [
      "(6535, 2)\n"
     ]
    }
   ],
   "source": [
    "data_path = \"./data/hw1_word_counts_05_cse250a_fall_2019.txt\" # file path in homework folder\n",
    "data = pd.read_csv(data_path, sep = \" \", header = None)\n",
    "print(data.shape)"
   ]
  },
  {
   "cell_type": "code",
   "execution_count": 304,
   "metadata": {},
   "outputs": [
    {
     "data": {
      "text/html": [
       "<div>\n",
       "<style scoped>\n",
       "    .dataframe tbody tr th:only-of-type {\n",
       "        vertical-align: middle;\n",
       "    }\n",
       "\n",
       "    .dataframe tbody tr th {\n",
       "        vertical-align: top;\n",
       "    }\n",
       "\n",
       "    .dataframe thead th {\n",
       "        text-align: right;\n",
       "    }\n",
       "</style>\n",
       "<table border=\"1\" class=\"dataframe\">\n",
       "  <thead>\n",
       "    <tr style=\"text-align: right;\">\n",
       "      <th></th>\n",
       "      <th>word</th>\n",
       "      <th>word_count</th>\n",
       "    </tr>\n",
       "  </thead>\n",
       "  <tbody>\n",
       "    <tr>\n",
       "      <th>0</th>\n",
       "      <td>AARON</td>\n",
       "      <td>413</td>\n",
       "    </tr>\n",
       "    <tr>\n",
       "      <th>1</th>\n",
       "      <td>ABABA</td>\n",
       "      <td>199</td>\n",
       "    </tr>\n",
       "    <tr>\n",
       "      <th>2</th>\n",
       "      <td>ABACK</td>\n",
       "      <td>64</td>\n",
       "    </tr>\n",
       "    <tr>\n",
       "      <th>3</th>\n",
       "      <td>ABATE</td>\n",
       "      <td>69</td>\n",
       "    </tr>\n",
       "    <tr>\n",
       "      <th>4</th>\n",
       "      <td>ABBAS</td>\n",
       "      <td>290</td>\n",
       "    </tr>\n",
       "  </tbody>\n",
       "</table>\n",
       "</div>"
      ],
      "text/plain": [
       "    word  word_count\n",
       "0  AARON         413\n",
       "1  ABABA         199\n",
       "2  ABACK          64\n",
       "3  ABATE          69\n",
       "4  ABBAS         290"
      ]
     },
     "execution_count": 304,
     "metadata": {},
     "output_type": "execute_result"
    }
   ],
   "source": [
    "data.columns = [\"word\", \"word_count\"]\n",
    "data.head(5)"
   ]
  },
  {
   "cell_type": "code",
   "execution_count": 305,
   "metadata": {},
   "outputs": [
    {
     "name": "stdout",
     "output_type": "stream",
     "text": [
      "number of nans in give data : 0\n"
     ]
    }
   ],
   "source": [
    "print(f'number of nans in give data : {data[\"word_count\"].isna().sum()}')"
   ]
  },
  {
   "cell_type": "markdown",
   "metadata": {},
   "source": [
    "Thus, we can go ahead without working on imputation/filling missed values"
   ]
  },
  {
   "cell_type": "code",
   "execution_count": 306,
   "metadata": {},
   "outputs": [],
   "source": [
    "# making sure all letters are upper case two avoid confusion with uppper and lower case words\n",
    "data[\"word\"] = data[\"word\"].str.upper()"
   ]
  },
  {
   "cell_type": "code",
   "execution_count": 307,
   "metadata": {},
   "outputs": [
    {
     "name": "stdout",
     "output_type": "stream",
     "text": [
      "number of unique words : 6535, number of words : 6535\n"
     ]
    }
   ],
   "source": [
    "print(f'number of unique words : {data[\"word\"].nunique()}, number of words : {data.shape[0]}')"
   ]
  },
  {
   "cell_type": "markdown",
   "metadata": {},
   "source": [
    "Observe that, number of unique words and number of words are same, hence we dont need to do any aggregation, we proceed forward"
   ]
  },
  {
   "cell_type": "code",
   "execution_count": 308,
   "metadata": {},
   "outputs": [
    {
     "data": {
      "text/plain": [
       "count      6535.000000\n",
       "mean       1172.893191\n",
       "std        7707.131636\n",
       "min           6.000000\n",
       "25%          24.000000\n",
       "50%          61.000000\n",
       "75%         256.000000\n",
       "max      273077.000000\n",
       "Name: word_count, dtype: float64"
      ]
     },
     "execution_count": 308,
     "metadata": {},
     "output_type": "execute_result"
    }
   ],
   "source": [
    "data[\"word_count\"].describe()"
   ]
  },
  {
   "cell_type": "markdown",
   "metadata": {},
   "source": [
    "Note that, word cound minimum value is 6, thus, we are considering only values "
   ]
  },
  {
   "cell_type": "code",
   "execution_count": 309,
   "metadata": {},
   "outputs": [
    {
     "data": {
      "text/html": [
       "<div>\n",
       "<style scoped>\n",
       "    .dataframe tbody tr th:only-of-type {\n",
       "        vertical-align: middle;\n",
       "    }\n",
       "\n",
       "    .dataframe tbody tr th {\n",
       "        vertical-align: top;\n",
       "    }\n",
       "\n",
       "    .dataframe thead th {\n",
       "        text-align: right;\n",
       "    }\n",
       "</style>\n",
       "<table border=\"1\" class=\"dataframe\">\n",
       "  <thead>\n",
       "    <tr style=\"text-align: right;\">\n",
       "      <th></th>\n",
       "      <th>word</th>\n",
       "      <th>word_count</th>\n",
       "      <th>prior_probability</th>\n",
       "    </tr>\n",
       "  </thead>\n",
       "  <tbody>\n",
       "    <tr>\n",
       "      <th>0</th>\n",
       "      <td>AARON</td>\n",
       "      <td>413</td>\n",
       "      <td>0.000054</td>\n",
       "    </tr>\n",
       "    <tr>\n",
       "      <th>1</th>\n",
       "      <td>ABABA</td>\n",
       "      <td>199</td>\n",
       "      <td>0.000026</td>\n",
       "    </tr>\n",
       "    <tr>\n",
       "      <th>2</th>\n",
       "      <td>ABACK</td>\n",
       "      <td>64</td>\n",
       "      <td>0.000008</td>\n",
       "    </tr>\n",
       "    <tr>\n",
       "      <th>3</th>\n",
       "      <td>ABATE</td>\n",
       "      <td>69</td>\n",
       "      <td>0.000009</td>\n",
       "    </tr>\n",
       "    <tr>\n",
       "      <th>4</th>\n",
       "      <td>ABBAS</td>\n",
       "      <td>290</td>\n",
       "      <td>0.000038</td>\n",
       "    </tr>\n",
       "  </tbody>\n",
       "</table>\n",
       "</div>"
      ],
      "text/plain": [
       "    word  word_count  prior_probability\n",
       "0  AARON         413           0.000054\n",
       "1  ABABA         199           0.000026\n",
       "2  ABACK          64           0.000008\n",
       "3  ABATE          69           0.000009\n",
       "4  ABBAS         290           0.000038"
      ]
     },
     "execution_count": 309,
     "metadata": {},
     "output_type": "execute_result"
    }
   ],
   "source": [
    "# Calculating prior probability\n",
    "data[\"prior_probability\"] = data[\"word_count\"]/float(data[\"word_count\"].sum())\n",
    "data.head(5)"
   ]
  },
  {
   "cell_type": "code",
   "execution_count": 310,
   "metadata": {},
   "outputs": [
    {
     "data": {
      "text/html": [
       "<div>\n",
       "<style scoped>\n",
       "    .dataframe tbody tr th:only-of-type {\n",
       "        vertical-align: middle;\n",
       "    }\n",
       "\n",
       "    .dataframe tbody tr th {\n",
       "        vertical-align: top;\n",
       "    }\n",
       "\n",
       "    .dataframe thead th {\n",
       "        text-align: right;\n",
       "    }\n",
       "</style>\n",
       "<table border=\"1\" class=\"dataframe\">\n",
       "  <thead>\n",
       "    <tr style=\"text-align: right;\">\n",
       "      <th></th>\n",
       "      <th>word</th>\n",
       "      <th>word_count</th>\n",
       "      <th>prior_probability</th>\n",
       "    </tr>\n",
       "  </thead>\n",
       "  <tbody>\n",
       "    <tr>\n",
       "      <th>5821</th>\n",
       "      <td>THREE</td>\n",
       "      <td>273077</td>\n",
       "      <td>0.035627</td>\n",
       "    </tr>\n",
       "    <tr>\n",
       "      <th>5102</th>\n",
       "      <td>SEVEN</td>\n",
       "      <td>178842</td>\n",
       "      <td>0.023333</td>\n",
       "    </tr>\n",
       "    <tr>\n",
       "      <th>1684</th>\n",
       "      <td>EIGHT</td>\n",
       "      <td>165764</td>\n",
       "      <td>0.021626</td>\n",
       "    </tr>\n",
       "    <tr>\n",
       "      <th>6403</th>\n",
       "      <td>WOULD</td>\n",
       "      <td>159875</td>\n",
       "      <td>0.020858</td>\n",
       "    </tr>\n",
       "    <tr>\n",
       "      <th>18</th>\n",
       "      <td>ABOUT</td>\n",
       "      <td>157448</td>\n",
       "      <td>0.020542</td>\n",
       "    </tr>\n",
       "    <tr>\n",
       "      <th>5804</th>\n",
       "      <td>THEIR</td>\n",
       "      <td>145434</td>\n",
       "      <td>0.018974</td>\n",
       "    </tr>\n",
       "    <tr>\n",
       "      <th>6320</th>\n",
       "      <td>WHICH</td>\n",
       "      <td>142146</td>\n",
       "      <td>0.018545</td>\n",
       "    </tr>\n",
       "    <tr>\n",
       "      <th>73</th>\n",
       "      <td>AFTER</td>\n",
       "      <td>110102</td>\n",
       "      <td>0.014365</td>\n",
       "    </tr>\n",
       "    <tr>\n",
       "      <th>1975</th>\n",
       "      <td>FIRST</td>\n",
       "      <td>109957</td>\n",
       "      <td>0.014346</td>\n",
       "    </tr>\n",
       "    <tr>\n",
       "      <th>1947</th>\n",
       "      <td>FIFTY</td>\n",
       "      <td>106869</td>\n",
       "      <td>0.013943</td>\n",
       "    </tr>\n",
       "    <tr>\n",
       "      <th>4158</th>\n",
       "      <td>OTHER</td>\n",
       "      <td>106052</td>\n",
       "      <td>0.013836</td>\n",
       "    </tr>\n",
       "    <tr>\n",
       "      <th>2073</th>\n",
       "      <td>FORTY</td>\n",
       "      <td>94951</td>\n",
       "      <td>0.012388</td>\n",
       "    </tr>\n",
       "    <tr>\n",
       "      <th>6457</th>\n",
       "      <td>YEARS</td>\n",
       "      <td>88900</td>\n",
       "      <td>0.011598</td>\n",
       "    </tr>\n",
       "    <tr>\n",
       "      <th>5806</th>\n",
       "      <td>THERE</td>\n",
       "      <td>86502</td>\n",
       "      <td>0.011286</td>\n",
       "    </tr>\n",
       "    <tr>\n",
       "      <th>5250</th>\n",
       "      <td>SIXTY</td>\n",
       "      <td>73086</td>\n",
       "      <td>0.009535</td>\n",
       "    </tr>\n",
       "  </tbody>\n",
       "</table>\n",
       "</div>"
      ],
      "text/plain": [
       "       word  word_count  prior_probability\n",
       "5821  THREE      273077           0.035627\n",
       "5102  SEVEN      178842           0.023333\n",
       "1684  EIGHT      165764           0.021626\n",
       "6403  WOULD      159875           0.020858\n",
       "18    ABOUT      157448           0.020542\n",
       "5804  THEIR      145434           0.018974\n",
       "6320  WHICH      142146           0.018545\n",
       "73    AFTER      110102           0.014365\n",
       "1975  FIRST      109957           0.014346\n",
       "1947  FIFTY      106869           0.013943\n",
       "4158  OTHER      106052           0.013836\n",
       "2073  FORTY       94951           0.012388\n",
       "6457  YEARS       88900           0.011598\n",
       "5806  THERE       86502           0.011286\n",
       "5250  SIXTY       73086           0.009535"
      ]
     },
     "execution_count": 310,
     "metadata": {},
     "output_type": "execute_result"
    }
   ],
   "source": [
    "# Sanity checks to see if the data makes sense\n",
    "sorted_data = data.sort_values(by = [\"word_count\"], ascending=False)\n",
    "sorted_data.head(15)"
   ]
  },
  {
   "cell_type": "markdown",
   "metadata": {},
   "source": [
    "Observe that, most frquent 5 letter words in Wall Street journal are numbers and prepostions which makes sense"
   ]
  },
  {
   "cell_type": "code",
   "execution_count": 311,
   "metadata": {},
   "outputs": [
    {
     "data": {
      "text/html": [
       "<div>\n",
       "<style scoped>\n",
       "    .dataframe tbody tr th:only-of-type {\n",
       "        vertical-align: middle;\n",
       "    }\n",
       "\n",
       "    .dataframe tbody tr th {\n",
       "        vertical-align: top;\n",
       "    }\n",
       "\n",
       "    .dataframe thead th {\n",
       "        text-align: right;\n",
       "    }\n",
       "</style>\n",
       "<table border=\"1\" class=\"dataframe\">\n",
       "  <thead>\n",
       "    <tr style=\"text-align: right;\">\n",
       "      <th></th>\n",
       "      <th>word</th>\n",
       "      <th>word_count</th>\n",
       "      <th>prior_probability</th>\n",
       "    </tr>\n",
       "  </thead>\n",
       "  <tbody>\n",
       "    <tr>\n",
       "      <th>4622</th>\n",
       "      <td>RALEY</td>\n",
       "      <td>8</td>\n",
       "      <td>1.043725e-06</td>\n",
       "    </tr>\n",
       "    <tr>\n",
       "      <th>5093</th>\n",
       "      <td>SERNA</td>\n",
       "      <td>7</td>\n",
       "      <td>9.132590e-07</td>\n",
       "    </tr>\n",
       "    <tr>\n",
       "      <th>5872</th>\n",
       "      <td>TOCOR</td>\n",
       "      <td>7</td>\n",
       "      <td>9.132590e-07</td>\n",
       "    </tr>\n",
       "    <tr>\n",
       "      <th>3978</th>\n",
       "      <td>NIAID</td>\n",
       "      <td>7</td>\n",
       "      <td>9.132590e-07</td>\n",
       "    </tr>\n",
       "    <tr>\n",
       "      <th>1842</th>\n",
       "      <td>FABRI</td>\n",
       "      <td>7</td>\n",
       "      <td>9.132590e-07</td>\n",
       "    </tr>\n",
       "    <tr>\n",
       "      <th>4266</th>\n",
       "      <td>PAXON</td>\n",
       "      <td>7</td>\n",
       "      <td>9.132590e-07</td>\n",
       "    </tr>\n",
       "    <tr>\n",
       "      <th>2041</th>\n",
       "      <td>FOAMY</td>\n",
       "      <td>7</td>\n",
       "      <td>9.132590e-07</td>\n",
       "    </tr>\n",
       "    <tr>\n",
       "      <th>6443</th>\n",
       "      <td>YALOM</td>\n",
       "      <td>7</td>\n",
       "      <td>9.132590e-07</td>\n",
       "    </tr>\n",
       "    <tr>\n",
       "      <th>977</th>\n",
       "      <td>CCAIR</td>\n",
       "      <td>7</td>\n",
       "      <td>9.132590e-07</td>\n",
       "    </tr>\n",
       "    <tr>\n",
       "      <th>1107</th>\n",
       "      <td>CLEFT</td>\n",
       "      <td>7</td>\n",
       "      <td>9.132590e-07</td>\n",
       "    </tr>\n",
       "    <tr>\n",
       "      <th>3554</th>\n",
       "      <td>MAPCO</td>\n",
       "      <td>6</td>\n",
       "      <td>7.827935e-07</td>\n",
       "    </tr>\n",
       "    <tr>\n",
       "      <th>895</th>\n",
       "      <td>CAIXA</td>\n",
       "      <td>6</td>\n",
       "      <td>7.827935e-07</td>\n",
       "    </tr>\n",
       "    <tr>\n",
       "      <th>4160</th>\n",
       "      <td>OTTIS</td>\n",
       "      <td>6</td>\n",
       "      <td>7.827935e-07</td>\n",
       "    </tr>\n",
       "    <tr>\n",
       "      <th>5985</th>\n",
       "      <td>TROUP</td>\n",
       "      <td>6</td>\n",
       "      <td>7.827935e-07</td>\n",
       "    </tr>\n",
       "    <tr>\n",
       "      <th>712</th>\n",
       "      <td>BOSAK</td>\n",
       "      <td>6</td>\n",
       "      <td>7.827935e-07</td>\n",
       "    </tr>\n",
       "  </tbody>\n",
       "</table>\n",
       "</div>"
      ],
      "text/plain": [
       "       word  word_count  prior_probability\n",
       "4622  RALEY           8       1.043725e-06\n",
       "5093  SERNA           7       9.132590e-07\n",
       "5872  TOCOR           7       9.132590e-07\n",
       "3978  NIAID           7       9.132590e-07\n",
       "1842  FABRI           7       9.132590e-07\n",
       "4266  PAXON           7       9.132590e-07\n",
       "2041  FOAMY           7       9.132590e-07\n",
       "6443  YALOM           7       9.132590e-07\n",
       "977   CCAIR           7       9.132590e-07\n",
       "1107  CLEFT           7       9.132590e-07\n",
       "3554  MAPCO           6       7.827935e-07\n",
       "895   CAIXA           6       7.827935e-07\n",
       "4160  OTTIS           6       7.827935e-07\n",
       "5985  TROUP           6       7.827935e-07\n",
       "712   BOSAK           6       7.827935e-07"
      ]
     },
     "execution_count": 311,
     "metadata": {},
     "output_type": "execute_result"
    }
   ],
   "source": [
    "sorted_data.tail(15)"
   ]
  },
  {
   "cell_type": "markdown",
   "metadata": {},
   "source": [
    "Observe that, least frquent 5 letter words in Wall Street journal are colloquially/formally very sparingly used words. Note that order of words may be different across different runs as they all have same frequence and hence same probabilituy"
   ]
  },
  {
   "cell_type": "markdown",
   "metadata": {},
   "source": [
    " "
   ]
  },
  {
   "cell_type": "markdown",
   "metadata": {},
   "source": [
    "## 1.9 (b)\n",
    "\n",
    "Consider the following stages of the game. \n",
    "\n",
    "For each of the following, indicate the best next guess— namely, the letter l that is most likely (probable) to be among the missing letters. \n",
    "\n",
    "Also report the probability P (Li = l for some i ∈ {1, 2, 3, 4, 5}|E ) for your guess l. Your answers should fill in the last two columns of this table. (Some answers are shown so that you can check your work.)"
   ]
  },
  {
   "cell_type": "code",
   "execution_count": 312,
   "metadata": {},
   "outputs": [],
   "source": [
    "incorrectly_guessed = ['A', 'E', 'I', 'O', 'S']\n",
    "correctly_guessed = ['_','U','_','_','_']\n",
    "word_length = 5\n",
    "\n",
    "#Fiding best guess for next letter"
   ]
  },
  {
   "cell_type": "code",
   "execution_count": 316,
   "metadata": {},
   "outputs": [
    {
     "name": "stdout",
     "output_type": "stream",
     "text": [
      "True\n"
     ]
    }
   ],
   "source": [
    "def get_condition_set(correctly_guessed, incorrectly_guessed =[]):\n",
    "    letters = [i for i in correctly_guessed if i != '_']\n",
    "    if letters:\n",
    "        return incorrectly_guessed + list(set([i for i in correctly_guessed if i != '_']))\n",
    "    else :\n",
    "        return incorrectly_guessed\n",
    "        \n",
    "\n",
    "# function testing\n",
    "print(get_condition_set(correctly_guessed,incorrectly_guessed) == ['A', 'E', 'I', 'O', 'S', 'U'])"
   ]
  },
  {
   "cell_type": "code",
   "execution_count": 317,
   "metadata": {},
   "outputs": [
    {
     "name": "stdout",
     "output_type": "stream",
     "text": [
      "True\n"
     ]
    }
   ],
   "source": [
    "def get_word_pattern(correctly_guessed=['_' for i in range(word_length)]):\n",
    "    return [i for i in zip(range(word_length), correctly_guessed,) if i[1] != '_']\n",
    "\n",
    "# function testing\n",
    "print( get_word_pattern(correctly_guessed) == [(1, 'U')])"
   ]
  },
  {
   "cell_type": "code",
   "execution_count": 318,
   "metadata": {},
   "outputs": [
    {
     "name": "stdout",
     "output_type": "stream",
     "text": [
      "True\n",
      "True\n"
     ]
    }
   ],
   "source": [
    "def get_pattern_check(word, word_pattern):\n",
    "    for (index,letter) in word_pattern :\n",
    "        if (word[index] != letter):\n",
    "            return False\n",
    "    return True\n",
    "\n",
    "# function testing\n",
    "print(get_pattern_check(\"MUTRK\", get_word_pattern(correctly_guessed)) == True)\n",
    "print(get_pattern_check(\"MVTRK\", get_word_pattern(correctly_guessed)) == False)"
   ]
  },
  {
   "cell_type": "code",
   "execution_count": 325,
   "metadata": {},
   "outputs": [
    {
     "data": {
      "text/plain": [
       "True"
      ]
     },
     "execution_count": 325,
     "metadata": {},
     "output_type": "execute_result"
    }
   ],
   "source": [
    "def get_count_list(letter, letter_arr):\n",
    "    return sum([1 for i in letter_arr if i == letter])\n",
    "  \n",
    "# function testing\n",
    "get_count_list('U',['_','U','_','_','_']) == 1"
   ]
  },
  {
   "cell_type": "code",
   "execution_count": 348,
   "metadata": {},
   "outputs": [
    {
     "name": "stdout",
     "output_type": "stream",
     "text": [
      "True\n",
      "True\n",
      "True\n"
     ]
    }
   ],
   "source": [
    "def does_word_satisfy_condition(word, correctly_guessed, incorrectly_guessed =[]):\n",
    "    word_pattern = get_word_pattern(correctly_guessed)\n",
    "    \n",
    "    # checking if word has condition set of letters which are already guessed incorrectly\n",
    "    for i in incorrectly_guessed:\n",
    "         if (i in word):\n",
    "                return False\n",
    "    \n",
    "    correctly_guessed_letters = [ j for j in correctly_guessed if j != '_']\n",
    "    correct_letters_count_arr =list(zip(correctly_guessed_letters,\n",
    "        [get_count_list(i, correctly_guessed_letters) for i in correctly_guessed_letters]))\n",
    "    \n",
    "    if get_pattern_check(word,word_pattern):\n",
    "        #print(correct_letters_count_arr)\n",
    "        for (i,j) in correct_letters_count_arr:\n",
    "            #print(get_count_list(i, word))\n",
    "            if get_count_list(i, word) != j:\n",
    "                return False\n",
    "        return True\n",
    "            \n",
    "    else :\n",
    "        return False\n",
    "        \n",
    "    \n",
    "    \n",
    "    # onece we know, condition set is not present in word, we will now check if we have same patter or not \n",
    "    return  get_pattern_check(word,word_pattern)\n",
    "\n",
    "# function testing\n",
    "print(does_word_satisfy_condition(\"MUTRK\",correctly_guessed,incorrectly_guessed) == True)\n",
    "print(does_word_satisfy_condition(\"MUTUK\",correctly_guessed,incorrectly_guessed) == False)\n",
    "print(does_word_satisfy_condition(\"MVTRK\",correctly_guessed,incorrectly_guessed) == False)"
   ]
  },
  {
   "cell_type": "code",
   "execution_count": 349,
   "metadata": {},
   "outputs": [],
   "source": [
    "## Function to get all the required words satifying given condition\n",
    "def req_set_words(df,\n",
    "                  correctly_guessed = [\"_\" for i in range(word_length)],\n",
    "                  incorrectly_guessed =[]):\n",
    "\n",
    "    raw_data = copy.deepcopy(df)\n",
    "    req_data = raw_data[raw_data[\"word\"].map(lambda x :\n",
    "            does_word_satisfy_condition(x,correctly_guessed,\n",
    "                                        incorrectly_guessed))].copy()\n",
    "    return req_data"
   ]
  },
  {
   "cell_type": "code",
   "execution_count": null,
   "metadata": {},
   "outputs": [],
   "source": []
  },
  {
   "cell_type": "code",
   "execution_count": 387,
   "metadata": {},
   "outputs": [],
   "source": [
    "# For each letter finding how many words contain that letter and\n",
    "#its probability to be present in word satisfying given condition\n",
    "\n",
    "def letter_presence_counts(df, remaining_letters):\n",
    "    raw_data = copy.deepcopy(df)\n",
    "    for letter in remaining_letters :\n",
    "        raw_data[letter] = raw_data[\"word_count\"]*raw_data[\"word\"].map(\n",
    "            lambda x : 1 if (letter in x) else 0)\n",
    "        \n",
    "    req_total_word_count = raw_data[\"word_count\"].sum()\n",
    "    #print(raw_data.head(5))\n",
    "    \n",
    "    #print(f'\\ntotal number of occurrences words : {req_total_word_count}')\n",
    "    \n",
    "    req_data3 = raw_data.copy().iloc[:,3:].sum().reset_index()\n",
    "    req_data3.columns = [\"letter\", \"count_occurrence\"]\n",
    "    req_data3[\"letter_probability\"] = req_data3[\"count_occurrence\"]/req_total_word_count\n",
    "    #print(\"\\nletters, number of occurrences and their probabilities :\")\n",
    "    #print(req_data3.sort_values(\"count_occurrence\", ascending = False).head(5))\n",
    "    \n",
    "    req_data3.plot.bar(x='letter', y='letter_probability', rot=0, color = 'b', figsize=(10,6))\n",
    "    plt.show()\n",
    "    \n",
    "    return req_data3[['letter','letter_probability']].loc[req_data3[\"letter_probability\"].idxmax()]"
   ]
  },
  {
   "cell_type": "code",
   "execution_count": 390,
   "metadata": {
    "scrolled": false
   },
   "outputs": [
    {
     "name": "stdout",
     "output_type": "stream",
     "text": [
      "correctly_guessed = ['_', 'U', '_', '_', '_']\n",
      "incorrectly_guessed = ['A', 'E', 'I', 'O', 'S']\n"
     ]
    },
    {
     "data": {
      "image/png": "[encoded data removed]",
      "text/plain": [
       "<Figure size 720x432 with 1 Axes>"
      ]
     },
     "metadata": {
      "needs_background": "light"
     },
     "output_type": "display_data"
    },
    {
     "name": "stdout",
     "output_type": "stream",
     "text": [
      "True\n"
     ]
    }
   ],
   "source": [
    "def get_best_guess(df,\n",
    "                   correctly_guessed = [\"_\" for i in range(word_length)],\n",
    "                   incorrectly_guessed =[]):\n",
    "    print(f'correctly_guessed = {correctly_guessed}')\n",
    "    print(f'incorrectly_guessed = {incorrectly_guessed}')\n",
    "    raw_data = copy.deepcopy(df)\n",
    "    req_data = req_set_words(raw_data, correctly_guessed, incorrectly_guessed)\n",
    "    #print(f\"words satisfying given condition : {req_data.shape[0]}\")\n",
    "    #print(f'total number of occurrences words : {req_data[\"word_count\"].sum()}')\n",
    "    #print(f'\\nsample dataframe with words satisfying condition :')\n",
    "    #print(req_data.head(5))\n",
    "    \n",
    "    alphabet = \"ABCDEFGHIJKLMNOPQRSTUVWXYZ\"\n",
    "    condition_set = get_condition_set(correctly_guessed,incorrectly_guessed)\n",
    "    #print( f'\\nletters that need not be used further : {condition_set}')\n",
    "    remaining_letters = [i for i in alphabet if i not in condition_set]\n",
    "    #print( f'\\nletters that can be used further : {remaining_letters}')\n",
    "          \n",
    "    ltr_prob_dict = dict(letter_presence_counts(req_data, remaining_letters))\n",
    "    ltr_prob_dict[\"letter_probability\"] = round(ltr_prob_dict[\"letter_probability\"], 4)\n",
    "    \n",
    "    return ltr_prob_dict\n",
    "\n",
    "incorrectly_guessed = ['A', 'E', 'I', 'O', 'S']\n",
    "correctly_guessed = ['_','U','_','_','_']\n",
    "\n",
    "# function test\n",
    "\n",
    "print(get_best_guess(data, correctly_guessed, incorrectly_guessed) == {'letter': 'Y', 'letter_probability': 0.6270})"
   ]
  },
  {
   "cell_type": "code",
   "execution_count": 392,
   "metadata": {},
   "outputs": [
    {
     "name": "stdout",
     "output_type": "stream",
     "text": [
      "correctly_guessed = ['_', 'U', '_', '_', '_']\n",
      "incorrectly_guessed = ['A', 'E', 'I', 'O', 'S']\n"
     ]
    },
    {
     "data": {
      "image/png": "[encoded data removed]",
      "text/plain": [
       "<Figure size 720x432 with 1 Axes>"
      ]
     },
     "metadata": {
      "needs_background": "light"
     },
     "output_type": "display_data"
    },
    {
     "data": {
      "text/plain": [
       "{'letter': 'Y', 'letter_probability': 0.627}"
      ]
     },
     "execution_count": 392,
     "metadata": {},
     "output_type": "execute_result"
    }
   ],
   "source": [
    "incorrectly_guessed = ['A', 'E', 'I', 'O', 'S']\n",
    "correctly_guessed = ['_','U','_','_','_']\n",
    "get_best_guess(data, correctly_guessed, incorrectly_guessed)"
   ]
  },
  {
   "cell_type": "code",
   "execution_count": 393,
   "metadata": {},
   "outputs": [],
   "source": [
    "correctly_guessed_list = [[\"_\",\"_\",\"_\",\"_\",\"_\"],[\"_\",\"_\",\"_\",\"_\",\"_\"],\n",
    "                    [\"A\",\"_\",\"_\",\"_\",\"S\"], [\"A\",\"_\",\"_\",\"_\",\"S\"],\n",
    "                    [\"_\",\"_\",\"O\",\"_\",\"_\"], [\"_\",\"_\",\"_\",\"_\",\"_\"],\n",
    "                       [\"D\",\"_\",\"_\",\"I\",\"_\"], [\"D\",\"_\",\"_\",\"I\",\"_\"],\n",
    "                      [\"_\",\"U\",\"_\",\"_\",\"_\"]]\n",
    "                       \n",
    "incorrectly_guessed_list = [[],['E','A'],[],['I'],['A','E','M','N','T'],\n",
    "                     ['E','O'],[],['A'],['A','E','I','O','S']]"
   ]
  },
  {
   "cell_type": "code",
   "execution_count": 394,
   "metadata": {},
   "outputs": [],
   "source": [
    "#hw_df = pd.DataFrame({'correctly_guessed' : correctly_guessed_list, 'incorrectly_guessed': incorrectly_guessed_list})"
   ]
  },
  {
   "cell_type": "code",
   "execution_count": 395,
   "metadata": {},
   "outputs": [],
   "source": [
    "#hw_df[['correctly_guessed','incorrectly_guessed']].apply( \n",
    " #   lambda x :(get_best_guess(data, x[0], x[1])))#"
   ]
  },
  {
   "cell_type": "code",
   "execution_count": 396,
   "metadata": {},
   "outputs": [],
   "source": [
    "#hw_df"
   ]
  },
  {
   "cell_type": "code",
   "execution_count": 399,
   "metadata": {
    "scrolled": false
   },
   "outputs": [
    {
     "name": "stdout",
     "output_type": "stream",
     "text": [
      "correctly_guessed = ['_', '_', '_', '_', '_']\n",
      "incorrectly_guessed = []\n"
     ]
    },
    {
     "data": {
      "image/png": "[encoded data removed]",
      "text/plain": [
       "<Figure size 720x432 with 1 Axes>"
      ]
     },
     "metadata": {
      "needs_background": "light"
     },
     "output_type": "display_data"
    },
    {
     "name": "stdout",
     "output_type": "stream",
     "text": [
      "{'letter': 'E', 'letter_probability': 0.5394}\n",
      "\n",
      "\n",
      "\n",
      "correctly_guessed = ['_', '_', '_', '_', '_']\n",
      "incorrectly_guessed = ['E', 'A']\n"
     ]
    },
    {
     "data": {
      "image/png": "[encoded data removed]",
      "text/plain": [
       "<Figure size 720x432 with 1 Axes>"
      ]
     },
     "metadata": {
      "needs_background": "light"
     },
     "output_type": "display_data"
    },
    {
     "name": "stdout",
     "output_type": "stream",
     "text": [
      "{'letter': 'O', 'letter_probability': 0.534}\n",
      "\n",
      "\n",
      "\n",
      "correctly_guessed = ['A', '_', '_', '_', 'S']\n",
      "incorrectly_guessed = []\n"
     ]
    },
    {
     "data": {
      "image/png": "[encoded data removed]",
      "text/plain": [
       "<Figure size 720x432 with 1 Axes>"
      ]
     },
     "metadata": {
      "needs_background": "light"
     },
     "output_type": "display_data"
    },
    {
     "name": "stdout",
     "output_type": "stream",
     "text": [
      "{'letter': 'E', 'letter_probability': 0.7715}\n",
      "\n",
      "\n",
      "\n",
      "correctly_guessed = ['A', '_', '_', '_', 'S']\n",
      "incorrectly_guessed = ['I']\n"
     ]
    },
    {
     "data": {
      "image/png": "[encoded data removed]",
      "text/plain": [
       "<Figure size 720x432 with 1 Axes>"
      ]
     },
     "metadata": {
      "needs_background": "light"
     },
     "output_type": "display_data"
    },
    {
     "name": "stdout",
     "output_type": "stream",
     "text": [
      "{'letter': 'E', 'letter_probability': 0.7127}\n",
      "\n",
      "\n",
      "\n",
      "correctly_guessed = ['_', '_', 'O', '_', '_']\n",
      "incorrectly_guessed = ['A', 'E', 'M', 'N', 'T']\n"
     ]
    },
    {
     "data": {
      "image/png": "[encoded data removed]",
      "text/plain": [
       "<Figure size 720x432 with 1 Axes>"
      ]
     },
     "metadata": {
      "needs_background": "light"
     },
     "output_type": "display_data"
    },
    {
     "name": "stdout",
     "output_type": "stream",
     "text": [
      "{'letter': 'R', 'letter_probability': 0.7454}\n",
      "\n",
      "\n",
      "\n",
      "correctly_guessed = ['_', '_', '_', '_', '_']\n",
      "incorrectly_guessed = ['E', 'O']\n"
     ]
    },
    {
     "data": {
      "image/png": "[encoded data removed]",
      "text/plain": [
       "<Figure size 720x432 with 1 Axes>"
      ]
     },
     "metadata": {
      "needs_background": "light"
     },
     "output_type": "display_data"
    },
    {
     "name": "stdout",
     "output_type": "stream",
     "text": [
      "{'letter': 'I', 'letter_probability': 0.6366}\n",
      "\n",
      "\n",
      "\n",
      "correctly_guessed = ['D', '_', '_', 'I', '_']\n",
      "incorrectly_guessed = []\n"
     ]
    },
    {
     "data": {
      "image/png": "[encoded data removed]",
      "text/plain": [
       "<Figure size 720x432 with 1 Axes>"
      ]
     },
     "metadata": {
      "needs_background": "light"
     },
     "output_type": "display_data"
    },
    {
     "name": "stdout",
     "output_type": "stream",
     "text": [
      "{'letter': 'A', 'letter_probability': 0.8207}\n",
      "\n",
      "\n",
      "\n",
      "correctly_guessed = ['D', '_', '_', 'I', '_']\n",
      "incorrectly_guessed = ['A']\n"
     ]
    },
    {
     "data": {
      "image/png": "[encoded data removed]",
      "text/plain": [
       "<Figure size 720x432 with 1 Axes>"
      ]
     },
     "metadata": {
      "needs_background": "light"
     },
     "output_type": "display_data"
    },
    {
     "name": "stdout",
     "output_type": "stream",
     "text": [
      "{'letter': 'E', 'letter_probability': 0.7521}\n",
      "\n",
      "\n",
      "\n",
      "correctly_guessed = ['_', 'U', '_', '_', '_']\n",
      "incorrectly_guessed = ['A', 'E', 'I', 'O', 'S']\n"
     ]
    },
    {
     "data": {
      "image/png": "[encoded data removed]",
      "text/plain": [
       "<Figure size 720x432 with 1 Axes>"
      ]
     },
     "metadata": {
      "needs_background": "light"
     },
     "output_type": "display_data"
    },
    {
     "name": "stdout",
     "output_type": "stream",
     "text": [
      "{'letter': 'Y', 'letter_probability': 0.627}\n",
      "\n",
      "\n",
      "\n"
     ]
    }
   ],
   "source": [
    "ans_list = []\n",
    "for W,E in zip(correctly_guessed_list, incorrectly_guessed_list):\n",
    "    ans = get_best_guess(data, W, E)\n",
    "    print(ans)\n",
    "    print('\\n\\n')\n",
    "    ans_list.append([W,E, ans])"
   ]
  },
  {
   "cell_type": "markdown",
   "metadata": {},
   "source": [
    "## Final Answer"
   ]
  },
  {
   "cell_type": "code",
   "execution_count": 400,
   "metadata": {},
   "outputs": [
    {
     "data": {
      "text/plain": [
       "[[['_', '_', '_', '_', '_'],\n",
       "  [],\n",
       "  {'letter': 'E', 'letter_probability': 0.5394}],\n",
       " [['_', '_', '_', '_', '_'],\n",
       "  ['E', 'A'],\n",
       "  {'letter': 'O', 'letter_probability': 0.534}],\n",
       " [['A', '_', '_', '_', 'S'],\n",
       "  [],\n",
       "  {'letter': 'E', 'letter_probability': 0.7715}],\n",
       " [['A', '_', '_', '_', 'S'],\n",
       "  ['I'],\n",
       "  {'letter': 'E', 'letter_probability': 0.7127}],\n",
       " [['_', '_', 'O', '_', '_'],\n",
       "  ['A', 'E', 'M', 'N', 'T'],\n",
       "  {'letter': 'R', 'letter_probability': 0.7454}],\n",
       " [['_', '_', '_', '_', '_'],\n",
       "  ['E', 'O'],\n",
       "  {'letter': 'I', 'letter_probability': 0.6366}],\n",
       " [['D', '_', '_', 'I', '_'],\n",
       "  [],\n",
       "  {'letter': 'A', 'letter_probability': 0.8207}],\n",
       " [['D', '_', '_', 'I', '_'],\n",
       "  ['A'],\n",
       "  {'letter': 'E', 'letter_probability': 0.7521}],\n",
       " [['_', 'U', '_', '_', '_'],\n",
       "  ['A', 'E', 'I', 'O', 'S'],\n",
       "  {'letter': 'Y', 'letter_probability': 0.627}]]"
      ]
     },
     "execution_count": 400,
     "metadata": {},
     "output_type": "execute_result"
    }
   ],
   "source": [
    "ans_list"
   ]
  }
 ],
 "metadata": {
  "kernelspec": {
   "display_name": "Python 3",
   "language": "python",
   "name": "python3"
  },
  "language_info": {
   "codemirror_mode": {
    "name": "ipython",
    "version": 3
   },
   "file_extension": ".py",
   "mimetype": "text/x-python",
   "name": "python",
   "nbconvert_exporter": "python",
   "pygments_lexer": "ipython3",
   "version": "3.6.4"
  }
 },
 "nbformat": 4,
 "nbformat_minor": 2
}
